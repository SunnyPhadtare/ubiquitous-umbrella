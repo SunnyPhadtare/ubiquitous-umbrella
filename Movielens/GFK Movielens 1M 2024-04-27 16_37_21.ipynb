{
 "cells": [
  {
   "cell_type": "code",
   "execution_count": 0,
   "metadata": {
    "application/vnd.databricks.v1+cell": {
     "cellMetadata": {
      "byteLimit": 2048000,
      "rowLimit": 10000
     },
     "inputWidgets": {},
     "nuid": "36909674-b374-498b-a651-0446a8f6a41c",
     "showTitle": false,
     "title": ""
    }
   },
   "outputs": [],
   "source": [
    "# importing necessary libraries\n",
    "from pyspark.sql import SparkSession\n",
    "from pyspark.sql.functions import col, regexp_extract, explode, split, year, round"
   ]
  },
  {
   "cell_type": "code",
   "execution_count": 0,
   "metadata": {
    "application/vnd.databricks.v1+cell": {
     "cellMetadata": {
      "byteLimit": 2048000,
      "rowLimit": 10000
     },
     "inputWidgets": {},
     "nuid": "c83f219e-59d3-4105-97a8-7e375d26964f",
     "showTitle": false,
     "title": ""
    }
   },
   "outputs": [],
   "source": [
    "# Creating SparkSession\n",
    "spark = SparkSession.builder.appName(\"GFK MovieLens\").getOrCreate()"
   ]
  },
  {
   "cell_type": "code",
   "execution_count": 0,
   "metadata": {
    "application/vnd.databricks.v1+cell": {
     "cellMetadata": {
      "byteLimit": 2048000,
      "rowLimit": 10000
     },
     "inputWidgets": {},
     "nuid": "5fd612e2-b087-4017-bfab-af8e11bd84c7",
     "showTitle": false,
     "title": ""
    }
   },
   "outputs": [],
   "source": [
    "# Movie information is in the file \"movies.dat\" and is in the following\n",
    "# format:\n",
    "\n",
    "# MovieID::Title::Genres\n",
    "\n",
    "# - Titles are identical to titles provided by the IMDB (including\n",
    "# year of release)\n",
    "# - Genres are pipe-separated.\n",
    "\n",
    "# \t* Action\n",
    "# \t* Adventure\n",
    "# \t* Animation\n",
    "# \t* Children's\n",
    "# \t* Comedy\n",
    "# \t* Crime\n",
    "# \t* Documentary\n",
    "# \t* Drama\n",
    "# \t* Fantasy\n",
    "# \t* Film-Noir\n",
    "# \t* Horror\n",
    "# \t* Musical\n",
    "# \t* Mystery\n",
    "# \t* Romance\n",
    "# \t* Sci-Fi\n",
    "# \t* Thriller\n",
    "# \t* War\n",
    "# \t* Western\n",
    "\n",
    "# - Some MovieIDs do not correspond to a movie due to accidental duplicate\n",
    "# entries and/or test entries\n",
    "# - Movies are mostly entered by hand, so errors and inconsistencies may exist"
   ]
  },
  {
   "cell_type": "code",
   "execution_count": 0,
   "metadata": {
    "application/vnd.databricks.v1+cell": {
     "cellMetadata": {
      "byteLimit": 2048000,
      "rowLimit": 10000
     },
     "inputWidgets": {},
     "nuid": "e1776639-4300-4785-8d7d-4458f0f86caa",
     "showTitle": false,
     "title": ""
    }
   },
   "outputs": [
    {
     "output_type": "stream",
     "name": "stdout",
     "output_type": "stream",
     "text": [
      "+-------+--------------------+--------------------+\n|MovieID|               Title|              Genres|\n+-------+--------------------+--------------------+\n|      1|    Toy Story (1995)|Animation|Childre...|\n|      2|      Jumanji (1995)|Adventure|Childre...|\n|      3|Grumpier Old Men ...|      Comedy|Romance|\n|      4|Waiting to Exhale...|        Comedy|Drama|\n|      5|Father of the Bri...|              Comedy|\n|      6|         Heat (1995)|Action|Crime|Thri...|\n|      7|      Sabrina (1995)|      Comedy|Romance|\n|      8| Tom and Huck (1995)|Adventure|Children's|\n|      9| Sudden Death (1995)|              Action|\n|     10|    GoldenEye (1995)|Action|Adventure|...|\n|     11|American Presiden...|Comedy|Drama|Romance|\n|     12|Dracula: Dead and...|       Comedy|Horror|\n|     13|        Balto (1995)|Animation|Children's|\n|     14|        Nixon (1995)|               Drama|\n|     15|Cutthroat Island ...|Action|Adventure|...|\n|     16|       Casino (1995)|      Drama|Thriller|\n|     17|Sense and Sensibi...|       Drama|Romance|\n|     18|   Four Rooms (1995)|            Thriller|\n|     19|Ace Ventura: When...|              Comedy|\n|     20|  Money Train (1995)|              Action|\n+-------+--------------------+--------------------+\nonly showing top 20 rows\n\n"
     ]
    }
   ],
   "source": [
    "# Read movies file into pyspark dataframe seperating on \"::\" and providing schema\n",
    "schema = \"MovieID int, Title string, Genres string\"\n",
    "movies_df = spark.read.csv(\"/FileStore/tables/movies.dat\",sep=\"::\", schema = schema)\n",
    "movies_df.show()"
   ]
  },
  {
   "cell_type": "code",
   "execution_count": 0,
   "metadata": {
    "application/vnd.databricks.v1+cell": {
     "cellMetadata": {
      "byteLimit": 2048000,
      "rowLimit": 10000
     },
     "inputWidgets": {},
     "nuid": "1f3d911e-f3a3-41fe-9871-7b4cb03afc3b",
     "showTitle": false,
     "title": ""
    }
   },
   "outputs": [],
   "source": [
    "# User information is in the file \"users.dat\" and is in the following\n",
    "# format:\n",
    "\n",
    "# UserID::Gender::Age::Occupation::Zip-code\n",
    "\n",
    "# All demographic information is provided voluntarily by the users and is\n",
    "# not checked for accuracy.  Only users who have provided some demographic\n",
    "# information are included in this data set.\n",
    "\n",
    "# - Gender is denoted by a \"M\" for male and \"F\" for female\n",
    "# - Age is chosen from the following ranges:\n",
    "\n",
    "# \t*  1:  \"Under 18\"\n",
    "# \t* 18:  \"18-24\"\n",
    "# \t* 25:  \"25-34\"\n",
    "# \t* 35:  \"35-44\"\n",
    "# \t* 45:  \"45-49\"\n",
    "# \t* 50:  \"50-55\"\n",
    "# \t* 56:  \"56+\"\n",
    "\n",
    "# - Occupation is chosen from the following choices:\n",
    "\n",
    "# \t*  0:  \"other\" or not specified\n",
    "# \t*  1:  \"academic/educator\"\n",
    "# \t*  2:  \"artist\"\n",
    "# \t*  3:  \"clerical/admin\"\n",
    "# \t*  4:  \"college/grad student\"\n",
    "# \t*  5:  \"customer service\"\n",
    "# \t*  6:  \"doctor/health care\"\n",
    "# \t*  7:  \"executive/managerial\"\n",
    "# \t*  8:  \"farmer\"\n",
    "# \t*  9:  \"homemaker\"\n",
    "# \t* 10:  \"K-12 student\"\n",
    "# \t* 11:  \"lawyer\"\n",
    "# \t* 12:  \"programmer\"\n",
    "# \t* 13:  \"retired\"\n",
    "# \t* 14:  \"sales/marketing\"\n",
    "# \t* 15:  \"scientist\"\n",
    "# \t* 16:  \"self-employed\"\n",
    "# \t* 17:  \"technician/engineer\"\n",
    "# \t* 18:  \"tradesman/craftsman\"\n",
    "# \t* 19:  \"unemployed\"\n",
    "# \t* 20:  \"writer\""
   ]
  },
  {
   "cell_type": "code",
   "execution_count": 0,
   "metadata": {
    "application/vnd.databricks.v1+cell": {
     "cellMetadata": {
      "byteLimit": 2048000,
      "rowLimit": 10000
     },
     "inputWidgets": {},
     "nuid": "b807ed11-45bf-4833-a97e-ec3694381660",
     "showTitle": false,
     "title": ""
    }
   },
   "outputs": [
    {
     "output_type": "stream",
     "name": "stdout",
     "output_type": "stream",
     "text": [
      "+------+------+---+----------+--------+\n|UserID|Gender|Age|Occupation|Zip_code|\n+------+------+---+----------+--------+\n|     1|     F|  1|        10|   48067|\n|     2|     M| 56|        16|   70072|\n|     3|     M| 25|        15|   55117|\n|     4|     M| 45|         7|    2460|\n|     5|     M| 25|        20|   55455|\n|     6|     F| 50|         9|   55117|\n|     7|     M| 35|         1|    6810|\n|     8|     M| 25|        12|   11413|\n|     9|     M| 25|        17|   61614|\n|    10|     F| 35|         1|   95370|\n|    11|     F| 25|         1|    4093|\n|    12|     M| 25|        12|   32793|\n|    13|     M| 45|         1|   93304|\n|    14|     M| 35|         0|   60126|\n|    15|     M| 25|         7|   22903|\n|    16|     F| 35|         0|   20670|\n|    17|     M| 50|         1|   95350|\n|    18|     F| 18|         3|   95825|\n|    19|     M|  1|        10|   48073|\n|    20|     M| 25|        14|   55113|\n+------+------+---+----------+--------+\nonly showing top 20 rows\n\n"
     ]
    }
   ],
   "source": [
    "# Read users file into pyspark dataframe seperating on \"::\" and providing schema\n",
    "schema = \"UserID int,Gender string, Age int, Occupation int, Zip_code int\"\n",
    "users_df = spark.read.csv(\"/FileStore/tables/users.dat\", sep=\"::\", schema = schema)\n",
    "users_df.show()"
   ]
  },
  {
   "cell_type": "code",
   "execution_count": 0,
   "metadata": {
    "application/vnd.databricks.v1+cell": {
     "cellMetadata": {
      "byteLimit": 2048000,
      "rowLimit": 10000
     },
     "inputWidgets": {},
     "nuid": "92f47ada-5d60-4845-abb8-9c78a11f353d",
     "showTitle": false,
     "title": ""
    }
   },
   "outputs": [],
   "source": [
    "# All ratings are contained in the file \"ratings.dat\" and are in the\n",
    "# following format:\n",
    "\n",
    "# UserID::MovieID::Rating::Timestamp\n",
    "\n",
    "# - UserIDs range between 1 and 6040 \n",
    "# - MovieIDs range between 1 and 3952\n",
    "# - Ratings are made on a 5-star scale (whole-star ratings only)\n",
    "# - Timestamp is represented in seconds since the epoch as returned by time(2)\n",
    "# - Each user has at least 20 ratings\n"
   ]
  },
  {
   "cell_type": "code",
   "execution_count": 0,
   "metadata": {
    "application/vnd.databricks.v1+cell": {
     "cellMetadata": {
      "byteLimit": 2048000,
      "rowLimit": 10000
     },
     "inputWidgets": {},
     "nuid": "2fda23b7-ef8e-478c-b9af-3523bee69d6b",
     "showTitle": false,
     "title": ""
    }
   },
   "outputs": [
    {
     "output_type": "stream",
     "name": "stdout",
     "output_type": "stream",
     "text": [
      "+------+-------+------+---------+\n|UserID|MovieID|Rating|Timestamp|\n+------+-------+------+---------+\n|     1|   1193|     5|978300760|\n|     1|    661|     3|978302109|\n|     1|    914|     3|978301968|\n|     1|   3408|     4|978300275|\n|     1|   2355|     5|978824291|\n|     1|   1197|     3|978302268|\n|     1|   1287|     5|978302039|\n|     1|   2804|     5|978300719|\n|     1|    594|     4|978302268|\n|     1|    919|     4|978301368|\n|     1|    595|     5|978824268|\n|     1|    938|     4|978301752|\n|     1|   2398|     4|978302281|\n|     1|   2918|     4|978302124|\n|     1|   1035|     5|978301753|\n|     1|   2791|     4|978302188|\n|     1|   2687|     3|978824268|\n|     1|   2018|     4|978301777|\n|     1|   3105|     5|978301713|\n|     1|   2797|     4|978302039|\n+------+-------+------+---------+\nonly showing top 20 rows\n\n"
     ]
    }
   ],
   "source": [
    "# Read ratings file into pyspark dataframe seperating on \"::\" and providing schema\n",
    "schema = \"UserID int,MovieID int, Rating int, Timestamp bigint\"\n",
    "ratings_df = spark.read.csv(\"/FileStore/tables/ratings.dat\", sep=\"::\", schema= schema)\n",
    "ratings_df.show()"
   ]
  },
  {
   "cell_type": "code",
   "execution_count": 0,
   "metadata": {
    "application/vnd.databricks.v1+cell": {
     "cellMetadata": {
      "byteLimit": 2048000,
      "rowLimit": 10000
     },
     "inputWidgets": {},
     "nuid": "7184c3c5-4f35-40e2-8197-71c6ef87cdd7",
     "showTitle": true,
     "title": "Problem Statement"
    }
   },
   "outputs": [],
   "source": [
    "# Please calculate the average ratings, per genre and year.\n",
    "# By year we mean the year in which the movies were released.\n",
    "# Please consider only movies, which were released after 1989.\n",
    "# Please consider the ratings of all persons aged 18-49 years"
   ]
  },
  {
   "cell_type": "code",
   "execution_count": 0,
   "metadata": {
    "application/vnd.databricks.v1+cell": {
     "cellMetadata": {
      "byteLimit": 2048000,
      "rowLimit": 10000
     },
     "inputWidgets": {},
     "nuid": "1c68290e-6be6-46bb-93e2-dd9b2f40bb59",
     "showTitle": false,
     "title": ""
    }
   },
   "outputs": [
    {
     "output_type": "stream",
     "name": "stdout",
     "output_type": "stream",
     "text": [
      "+------+---+\n|UserID|Age|\n+------+---+\n|     1|  1|\n|     2| 56|\n|     3| 25|\n|     4| 45|\n|     5| 25|\n|     6| 50|\n|     7| 35|\n|     8| 25|\n|     9| 25|\n|    10| 35|\n|    11| 25|\n|    12| 25|\n|    13| 45|\n|    14| 35|\n|    15| 25|\n|    16| 35|\n|    17| 50|\n|    18| 18|\n|    19|  1|\n|    20| 25|\n+------+---+\nonly showing top 20 rows\n\n"
     ]
    }
   ],
   "source": [
    "# dropping unwanted columns from users_df\n",
    "\n",
    "users_df = users_df.drop(\"Gender\", \"Occupation\", \"Zip_Code\")\n",
    "users_df.show()"
   ]
  },
  {
   "cell_type": "code",
   "execution_count": 0,
   "metadata": {
    "application/vnd.databricks.v1+cell": {
     "cellMetadata": {
      "byteLimit": 2048000,
      "rowLimit": 10000
     },
     "inputWidgets": {},
     "nuid": "0355c1db-d45d-4ea4-8732-56789cf55e76",
     "showTitle": false,
     "title": ""
    }
   },
   "outputs": [
    {
     "output_type": "stream",
     "name": "stdout",
     "output_type": "stream",
     "text": [
      "+------+-------+------+\n|UserID|MovieID|Rating|\n+------+-------+------+\n|     1|   1193|     5|\n|     1|    661|     3|\n|     1|    914|     3|\n|     1|   3408|     4|\n|     1|   2355|     5|\n|     1|   1197|     3|\n|     1|   1287|     5|\n|     1|   2804|     5|\n|     1|    594|     4|\n|     1|    919|     4|\n|     1|    595|     5|\n|     1|    938|     4|\n|     1|   2398|     4|\n|     1|   2918|     4|\n|     1|   1035|     5|\n|     1|   2791|     4|\n|     1|   2687|     3|\n|     1|   2018|     4|\n|     1|   3105|     5|\n|     1|   2797|     4|\n+------+-------+------+\nonly showing top 20 rows\n\n"
     ]
    }
   ],
   "source": [
    "# dropping unwanted columns from ratings_df\n",
    "ratings_df = ratings_df.drop(\"Timestamp\")\n",
    "ratings_df.show()"
   ]
  },
  {
   "cell_type": "code",
   "execution_count": 0,
   "metadata": {
    "application/vnd.databricks.v1+cell": {
     "cellMetadata": {
      "byteLimit": 2048000,
      "rowLimit": 10000
     },
     "inputWidgets": {},
     "nuid": "31b80691-41e9-4202-94ed-1ac6eb11894c",
     "showTitle": false,
     "title": ""
    }
   },
   "outputs": [
    {
     "output_type": "stream",
     "name": "stdout",
     "output_type": "stream",
     "text": [
      "+-------+--------------------+--------------------+-----------+\n|MovieID|               Title|              Genres|ReleaseYear|\n+-------+--------------------+--------------------+-----------+\n|      1|    Toy Story (1995)|Animation|Childre...|       1995|\n|      2|      Jumanji (1995)|Adventure|Childre...|       1995|\n|      3|Grumpier Old Men ...|      Comedy|Romance|       1995|\n|      4|Waiting to Exhale...|        Comedy|Drama|       1995|\n|      5|Father of the Bri...|              Comedy|       1995|\n|      6|         Heat (1995)|Action|Crime|Thri...|       1995|\n|      7|      Sabrina (1995)|      Comedy|Romance|       1995|\n|      8| Tom and Huck (1995)|Adventure|Children's|       1995|\n|      9| Sudden Death (1995)|              Action|       1995|\n|     10|    GoldenEye (1995)|Action|Adventure|...|       1995|\n|     11|American Presiden...|Comedy|Drama|Romance|       1995|\n|     12|Dracula: Dead and...|       Comedy|Horror|       1995|\n|     13|        Balto (1995)|Animation|Children's|       1995|\n|     14|        Nixon (1995)|               Drama|       1995|\n|     15|Cutthroat Island ...|Action|Adventure|...|       1995|\n|     16|       Casino (1995)|      Drama|Thriller|       1995|\n|     17|Sense and Sensibi...|       Drama|Romance|       1995|\n|     18|   Four Rooms (1995)|            Thriller|       1995|\n|     19|Ace Ventura: When...|              Comedy|       1995|\n|     20|  Money Train (1995)|              Action|       1995|\n+-------+--------------------+--------------------+-----------+\nonly showing top 20 rows\n\n"
     ]
    }
   ],
   "source": [
    "#In the movies_df dataframe, we will get year of release from the \"Title\" column using regexp_extract() function, taking the value between the final opening and closing brackets\n",
    "\n",
    "movies_df = movies_df.withColumn(\"ReleaseYear\",regexp_extract(col(\"Title\"),r\"\\(([^()]+)\\)$\",1))\n",
    "movies_df.show()"
   ]
  },
  {
   "cell_type": "code",
   "execution_count": 0,
   "metadata": {
    "application/vnd.databricks.v1+cell": {
     "cellMetadata": {
      "byteLimit": 2048000,
      "rowLimit": 10000
     },
     "inputWidgets": {},
     "nuid": "efc1e826-4fdb-4417-9559-c42312a1c82e",
     "showTitle": false,
     "title": ""
    }
   },
   "outputs": [
    {
     "output_type": "stream",
     "name": "stdout",
     "output_type": "stream",
     "text": [
      "+-------+--------------------+----------+-----------+\n|MovieID|               Title|    Genres|ReleaseYear|\n+-------+--------------------+----------+-----------+\n|      1|    Toy Story (1995)| Animation|       1995|\n|      1|    Toy Story (1995)|Children's|       1995|\n|      1|    Toy Story (1995)|    Comedy|       1995|\n|      2|      Jumanji (1995)| Adventure|       1995|\n|      2|      Jumanji (1995)|Children's|       1995|\n|      2|      Jumanji (1995)|   Fantasy|       1995|\n|      3|Grumpier Old Men ...|    Comedy|       1995|\n|      3|Grumpier Old Men ...|   Romance|       1995|\n|      4|Waiting to Exhale...|    Comedy|       1995|\n|      4|Waiting to Exhale...|     Drama|       1995|\n|      5|Father of the Bri...|    Comedy|       1995|\n|      6|         Heat (1995)|    Action|       1995|\n|      6|         Heat (1995)|     Crime|       1995|\n|      6|         Heat (1995)|  Thriller|       1995|\n|      7|      Sabrina (1995)|    Comedy|       1995|\n|      7|      Sabrina (1995)|   Romance|       1995|\n|      8| Tom and Huck (1995)| Adventure|       1995|\n|      8| Tom and Huck (1995)|Children's|       1995|\n|      9| Sudden Death (1995)|    Action|       1995|\n|     10|    GoldenEye (1995)|    Action|       1995|\n+-------+--------------------+----------+-----------+\nonly showing top 20 rows\n\n"
     ]
    }
   ],
   "source": [
    "#In the movies_df dataframe, we need to seperate Genres column into individual genre for each movie, so using explode() function. \n",
    "# Now multiple rows are created for different genres.\n",
    "\n",
    "movies_df = movies_df.withColumn(\"Genres\",explode(split(\"Genres\",\"[|]\")))\n",
    "movies_df.show()"
   ]
  },
  {
   "cell_type": "code",
   "execution_count": 0,
   "metadata": {
    "application/vnd.databricks.v1+cell": {
     "cellMetadata": {
      "byteLimit": 2048000,
      "rowLimit": 10000
     },
     "inputWidgets": {},
     "nuid": "f7a7ed5c-7372-4c87-8c5f-1fcb241415c4",
     "showTitle": true,
     "title": "average ratings, per genre and year"
    }
   },
   "outputs": [
    {
     "output_type": "stream",
     "name": "stdout",
     "output_type": "stream",
     "text": [
      "+-------+--------------------+----------+-----------+------+------+\n|MovieID|               Title|    Genres|ReleaseYear|UserID|Rating|\n+-------+--------------------+----------+-----------+------+------+\n|   1193|One Flew Over the...|     Drama|       1975|     1|     5|\n|    661|James and the Gia...|   Musical|       1996|     1|     3|\n|    661|James and the Gia...|Children's|       1996|     1|     3|\n|    661|James and the Gia...| Animation|       1996|     1|     3|\n|    914| My Fair Lady (1964)|   Romance|       1964|     1|     3|\n|    914| My Fair Lady (1964)|   Musical|       1964|     1|     3|\n|   3408|Erin Brockovich (...|     Drama|       2000|     1|     4|\n|   2355|Bug's Life, A (1998)|    Comedy|       1998|     1|     5|\n|   2355|Bug's Life, A (1998)|Children's|       1998|     1|     5|\n|   2355|Bug's Life, A (1998)| Animation|       1998|     1|     5|\n|   1197|Princess Bride, T...|   Romance|       1987|     1|     3|\n|   1197|Princess Bride, T...|    Comedy|       1987|     1|     3|\n|   1197|Princess Bride, T...| Adventure|       1987|     1|     3|\n|   1197|Princess Bride, T...|    Action|       1987|     1|     3|\n|   1287|      Ben-Hur (1959)|     Drama|       1959|     1|     5|\n|   1287|      Ben-Hur (1959)| Adventure|       1959|     1|     5|\n|   1287|      Ben-Hur (1959)|    Action|       1959|     1|     5|\n|   2804|Christmas Story, ...|     Drama|       1983|     1|     5|\n|   2804|Christmas Story, ...|    Comedy|       1983|     1|     5|\n|    594|Snow White and th...|   Musical|       1937|     1|     4|\n+-------+--------------------+----------+-----------+------+------+\nonly showing top 20 rows\n\n"
     ]
    }
   ],
   "source": [
    "# Now we will finally join the 3 tables to get desired KPI. We keep movies_df as the left dataframe for the inner joins.\n",
    "temp_df = movies_df.join(ratings_df, on=[\"MovieID\"])\n",
    "temp_df.show()"
   ]
  },
  {
   "cell_type": "code",
   "execution_count": 0,
   "metadata": {
    "application/vnd.databricks.v1+cell": {
     "cellMetadata": {
      "byteLimit": 2048000,
      "rowLimit": 10000
     },
     "inputWidgets": {},
     "nuid": "b79585c9-42bd-4844-9e07-bbbc83dc24fd",
     "showTitle": false,
     "title": ""
    }
   },
   "outputs": [
    {
     "output_type": "stream",
     "name": "stdout",
     "output_type": "stream",
     "text": [
      "+------+-------+--------------------+----------+-----------+------+---+\n|UserID|MovieID|               Title|    Genres|ReleaseYear|Rating|Age|\n+------+-------+--------------------+----------+-----------+------+---+\n|     1|   1193|One Flew Over the...|     Drama|       1975|     5|  1|\n|     1|    661|James and the Gia...|   Musical|       1996|     3|  1|\n|     1|    661|James and the Gia...|Children's|       1996|     3|  1|\n|     1|    661|James and the Gia...| Animation|       1996|     3|  1|\n|     1|    914| My Fair Lady (1964)|   Romance|       1964|     3|  1|\n|     1|    914| My Fair Lady (1964)|   Musical|       1964|     3|  1|\n|     1|   3408|Erin Brockovich (...|     Drama|       2000|     4|  1|\n|     1|   2355|Bug's Life, A (1998)|    Comedy|       1998|     5|  1|\n|     1|   2355|Bug's Life, A (1998)|Children's|       1998|     5|  1|\n|     1|   2355|Bug's Life, A (1998)| Animation|       1998|     5|  1|\n|     1|   1197|Princess Bride, T...|   Romance|       1987|     3|  1|\n|     1|   1197|Princess Bride, T...|    Comedy|       1987|     3|  1|\n|     1|   1197|Princess Bride, T...| Adventure|       1987|     3|  1|\n|     1|   1197|Princess Bride, T...|    Action|       1987|     3|  1|\n|     1|   1287|      Ben-Hur (1959)|     Drama|       1959|     5|  1|\n|     1|   1287|      Ben-Hur (1959)| Adventure|       1959|     5|  1|\n|     1|   1287|      Ben-Hur (1959)|    Action|       1959|     5|  1|\n|     1|   2804|Christmas Story, ...|     Drama|       1983|     5|  1|\n|     1|   2804|Christmas Story, ...|    Comedy|       1983|     5|  1|\n|     1|    594|Snow White and th...|   Musical|       1937|     4|  1|\n+------+-------+--------------------+----------+-----------+------+---+\nonly showing top 20 rows\n\n"
     ]
    }
   ],
   "source": [
    "final_df = temp_df.join(users_df, on=[\"UserID\"])\n",
    "final_df.show()"
   ]
  },
  {
   "cell_type": "code",
   "execution_count": 0,
   "metadata": {
    "application/vnd.databricks.v1+cell": {
     "cellMetadata": {
      "byteLimit": 2048000,
      "rowLimit": 10000
     },
     "inputWidgets": {},
     "nuid": "c4b82d05-33f0-4de1-9ced-9cb4392a34b6",
     "showTitle": false,
     "title": ""
    }
   },
   "outputs": [
    {
     "output_type": "stream",
     "name": "stdout",
     "output_type": "stream",
     "text": [
      "root\n |-- UserID: integer (nullable = true)\n |-- MovieID: integer (nullable = true)\n |-- Title: string (nullable = true)\n |-- Genres: string (nullable = false)\n |-- ReleaseYear: integer (nullable = true)\n |-- Rating: integer (nullable = true)\n |-- Age: integer (nullable = true)\n\n"
     ]
    }
   ],
   "source": [
    "# Convert Year column to int format so we can filter required data\n",
    "final_df = final_df.withColumn(\"ReleaseYear\",final_df.ReleaseYear.cast(\"int\"))\n",
    "final_df.printSchema()"
   ]
  },
  {
   "cell_type": "code",
   "execution_count": 0,
   "metadata": {
    "application/vnd.databricks.v1+cell": {
     "cellMetadata": {
      "byteLimit": 2048000,
      "rowLimit": 10000
     },
     "inputWidgets": {},
     "nuid": "796cc638-408d-410f-87d7-606a46c54e59",
     "showTitle": false,
     "title": ""
    }
   },
   "outputs": [],
   "source": [
    "# Please calculate the average ratings, per genre and year.\n",
    "# By year we mean the year in which the movies were released.\n",
    "# Please consider only movies, which were released after 1989.\n",
    "# Please consider the ratings of all persons aged 18-49 years"
   ]
  },
  {
   "cell_type": "code",
   "execution_count": 0,
   "metadata": {
    "application/vnd.databricks.v1+cell": {
     "cellMetadata": {
      "byteLimit": 2048000,
      "rowLimit": 10000
     },
     "inputWidgets": {},
     "nuid": "1c3d63d9-6d68-4ef8-9b83-ea8bec5aeaac",
     "showTitle": false,
     "title": ""
    }
   },
   "outputs": [
    {
     "output_type": "display_data",
     "data": {
      "text/html": [
       "<style scoped>\n",
       "  .table-result-container {\n",
       "    max-height: 300px;\n",
       "    overflow: auto;\n",
       "  }\n",
       "  table, th, td {\n",
       "    border: 1px solid black;\n",
       "    border-collapse: collapse;\n",
       "  }\n",
       "  th, td {\n",
       "    padding: 5px;\n",
       "  }\n",
       "  th {\n",
       "    text-align: left;\n",
       "  }\n",
       "</style><div class='table-result-container'><table class='table-result'><thead style='background-color: white'><tr><th>Genres</th><th>ReleaseYear</th><th>avg(Rating)</th></tr></thead><tbody><tr><td>Horror</td><td>1990</td><td>3.1979010494752624</td></tr><tr><td>Documentary</td><td>1997</td><td>3.8688212927756656</td></tr><tr><td>Romance</td><td>1998</td><td>3.562386511024643</td></tr><tr><td>Children's</td><td>1992</td><td>3.259950248756219</td></tr><tr><td>Children's</td><td>1998</td><td>3.383314020857474</td></tr><tr><td>Mystery</td><td>1997</td><td>3.5251304586652017</td></tr><tr><td>Animation</td><td>1995</td><td>3.993894993894994</td></tr><tr><td>Adventure</td><td>1996</td><td>3.2408491947291362</td></tr><tr><td>Documentary</td><td>1996</td><td>4.103015075376884</td></tr><tr><td>Horror</td><td>1994</td><td>3.0639777468706537</td></tr><tr><td>Animation</td><td>1991</td><td>3.765840220385675</td></tr><tr><td>Horror</td><td>1995</td><td>2.737384140061792</td></tr><tr><td>War</td><td>1997</td><td>3.0882244370616463</td></tr><tr><td>Sci-Fi</td><td>1990</td><td>3.1954931804704487</td></tr><tr><td>Thriller</td><td>1990</td><td>3.47193129451194</td></tr><tr><td>Horror</td><td>1996</td><td>3.1403329935440025</td></tr><tr><td>Film-Noir</td><td>1997</td><td>4.170829170829171</td></tr><tr><td>Drama</td><td>1991</td><td>3.740649404027949</td></tr><tr><td>Horror</td><td>1993</td><td>3.2888064316635743</td></tr><tr><td>Crime</td><td>1999</td><td>3.406367041198502</td></tr><tr><td>Mystery</td><td>1993</td><td>3.1558333333333333</td></tr><tr><td>Action</td><td>1993</td><td>3.4471141728975887</td></tr><tr><td>Animation</td><td>1996</td><td>3.2569856054191364</td></tr><tr><td>Mystery</td><td>1998</td><td>3.4008429458740017</td></tr><tr><td>Adventure</td><td>1991</td><td>3.144790257104195</td></tr><tr><td>Crime</td><td>1997</td><td>3.5780659783429867</td></tr><tr><td>Fantasy</td><td>1990</td><td>2.605873261205564</td></tr><tr><td>Adventure</td><td>1995</td><td>2.914101216398859</td></tr><tr><td>Comedy</td><td>1993</td><td>3.4480170796402922</td></tr><tr><td>Musical</td><td>1996</td><td>3.225301204819277</td></tr><tr><td>Film-Noir</td><td>1995</td><td>3.5068965517241377</td></tr><tr><td>Action</td><td>1997</td><td>3.168424085278018</td></tr><tr><td>Romance</td><td>1992</td><td>3.488678660049628</td></tr><tr><td>Comedy</td><td>1999</td><td>3.5045447494958895</td></tr><tr><td>Adventure</td><td>1993</td><td>3.408353995803929</td></tr><tr><td>Western</td><td>1992</td><td>4.072916666666667</td></tr><tr><td>Action</td><td>2000</td><td>3.4562582844158305</td></tr><tr><td>Crime</td><td>1995</td><td>3.7177859778597786</td></tr><tr><td>Sci-Fi</td><td>1993</td><td>3.300235017626322</td></tr><tr><td>Romance</td><td>1994</td><td>3.662094455852156</td></tr><tr><td>War</td><td>2000</td><td>3.720183486238532</td></tr><tr><td>Adventure</td><td>1992</td><td>3.0301697045883094</td></tr><tr><td>Horror</td><td>1992</td><td>2.955948795180723</td></tr><tr><td>Fantasy</td><td>1995</td><td>3.0813492063492065</td></tr><tr><td>Film-Noir</td><td>1996</td><td>3.0</td></tr><tr><td>Drama</td><td>1998</td><td>3.5557867234371976</td></tr><tr><td>Action</td><td>1992</td><td>3.1441974757064672</td></tr><tr><td>Animation</td><td>1998</td><td>3.5537992235163616</td></tr><tr><td>Documentary</td><td>1993</td><td>4.043771043771044</td></tr><tr><td>Thriller</td><td>1996</td><td>3.407855855855856</td></tr><tr><td>Sci-Fi</td><td>1991</td><td>3.7332272003638844</td></tr><tr><td>Children's</td><td>1994</td><td>3.059606656580938</td></tr><tr><td>Children's</td><td>1993</td><td>3.1029411764705883</td></tr><tr><td>Romance</td><td>1991</td><td>3.534376918354819</td></tr><tr><td>Documentary</td><td>1998</td><td>3.806</td></tr><tr><td>Mystery</td><td>1992</td><td>3.4226044226044228</td></tr><tr><td>Thriller</td><td>1995</td><td>3.6196288659793816</td></tr><tr><td>Horror</td><td>1991</td><td>2.166153846153846</td></tr><tr><td>Romance</td><td>1996</td><td>3.4102930664760542</td></tr><tr><td>Romance</td><td>1990</td><td>3.413793103448276</td></tr><tr><td>Mystery</td><td>1990</td><td>3.6012965964343597</td></tr><tr><td>Sci-Fi</td><td>1998</td><td>3.1386151977324874</td></tr><tr><td>Western</td><td>1993</td><td>3.7789661319073082</td></tr><tr><td>Mystery</td><td>1991</td><td>3.7013838310269485</td></tr><tr><td>Comedy</td><td>1998</td><td>3.4794514243637535</td></tr><tr><td>Drama</td><td>1995</td><td>3.622660398711587</td></tr><tr><td>Documentary</td><td>2000</td><td>3.56</td></tr><tr><td>Crime</td><td>1992</td><td>3.5802569523499757</td></tr><tr><td>Children's</td><td>1990</td><td>2.8906685236768803</td></tr><tr><td>Sci-Fi</td><td>1996</td><td>3.1054135338345863</td></tr><tr><td>Action</td><td>1994</td><td>3.263103415827609</td></tr><tr><td>Crime</td><td>1996</td><td>3.6484699659992446</td></tr><tr><td>Thriller</td><td>1991</td><td>4.073460508701473</td></tr><tr><td>Mystery</td><td>1994</td><td>3.4003466204506068</td></tr><tr><td>Action</td><td>1996</td><td>3.1910651920838182</td></tr><tr><td>Action</td><td>1999</td><td>3.31703900317039</td></tr><tr><td>Adventure</td><td>1997</td><td>3.1442724458204334</td></tr><tr><td>Romance</td><td>1995</td><td>3.4063711125815295</td></tr><tr><td>Fantasy</td><td>1997</td><td>2.6986301369863015</td></tr><tr><td>Musical</td><td>1994</td><td>3.8358925143953937</td></tr><tr><td>Adventure</td><td>1994</td><td>3.451586149699357</td></tr><tr><td>Horror</td><td>1998</td><td>2.7901477832512316</td></tr><tr><td>Mystery</td><td>1995</td><td>2.8014911463187326</td></tr><tr><td>Fantasy</td><td>1996</td><td>2.8673316708229426</td></tr><tr><td>Documentary</td><td>1990</td><td>3.9831932773109244</td></tr><tr><td>Drama</td><td>1999</td><td>3.6150596225223093</td></tr><tr><td>Action</td><td>1995</td><td>3.2528342245989306</td></tr><tr><td>Fantasy</td><td>1999</td><td>3.3858742463393625</td></tr><tr><td>Crime</td><td>1994</td><td>3.8935683222705424</td></tr><tr><td>Thriller</td><td>1992</td><td>3.4038671448619993</td></tr><tr><td>Drama</td><td>1993</td><td>3.7001449575481464</td></tr><tr><td>Sci-Fi</td><td>1992</td><td>3.0055895661431995</td></tr><tr><td>Romance</td><td>1993</td><td>3.7085308056872037</td></tr><tr><td>Fantasy</td><td>1993</td><td>2.8973747016706444</td></tr><tr><td>Fantasy</td><td>2000</td><td>2.4508196721311477</td></tr><tr><td>War</td><td>1996</td><td>3.3637782982045277</td></tr><tr><td>Comedy</td><td>1994</td><td>3.3206759345679617</td></tr><tr><td>Fantasy</td><td>1994</td><td>3.271981776765376</td></tr><tr><td>Comedy</td><td>2000</td><td>3.393928035982009</td></tr><tr><td>Children's</td><td>1999</td><td>3.657915057915058</td></tr><tr><td>Drama</td><td>1994</td><td>3.7470431354359928</td></tr><tr><td>War</td><td>1992</td><td>3.610290371879776</td></tr><tr><td>Action</td><td>1998</td><td>3.4094603748024386</td></tr><tr><td>Thriller</td><td>1993</td><td>3.4964440321583177</td></tr><tr><td>Crime</td><td>1991</td><td>3.414383561643836</td></tr><tr><td>Children's</td><td>1991</td><td>3.4746019711902956</td></tr><tr><td>Children's</td><td>1995</td><td>3.596620528491821</td></tr><tr><td>Musical</td><td>1995</td><td>2.9763313609467454</td></tr><tr><td>Animation</td><td>1992</td><td>3.948733786287832</td></tr><tr><td>Horror</td><td>2000</td><td>2.8681214421252372</td></tr><tr><td>Sci-Fi</td><td>1995</td><td>3.141554628341833</td></tr><tr><td>Adventure</td><td>2000</td><td>3.02740408570005</td></tr><tr><td>Musical</td><td>1999</td><td>3.828125</td></tr><tr><td>Film-Noir</td><td>1998</td><td>3.62217659137577</td></tr><tr><td>Drama</td><td>1996</td><td>3.6688338493292054</td></tr><tr><td>Musical</td><td>1997</td><td>3.03248031496063</td></tr><tr><td>Animation</td><td>1997</td><td>3.5817843866171004</td></tr><tr><td>Action</td><td>1991</td><td>3.6248148757610665</td></tr><tr><td>Comedy</td><td>1991</td><td>3.353307138179437</td></tr><tr><td>Musical</td><td>1993</td><td>3.545774647887324</td></tr><tr><td>Musical</td><td>1992</td><td>3.7510094212651413</td></tr><tr><td>War</td><td>1991</td><td>3.7974683544303796</td></tr><tr><td>Sci-Fi</td><td>1997</td><td>3.3829806232699347</td></tr><tr><td>Comedy</td><td>1990</td><td>3.2236116713728653</td></tr><tr><td>Thriller</td><td>1998</td><td>3.309744560075686</td></tr><tr><td>Adventure</td><td>1999</td><td>3.3409865470852016</td></tr><tr><td>Children's</td><td>2000</td><td>3.279113625648279</td></tr><tr><td>Documentary</td><td>1994</td><td>4.1262458471760795</td></tr><tr><td>War</td><td>1999</td><td>3.606060606060606</td></tr><tr><td>Western</td><td>1990</td><td>3.4885646687697163</td></tr><tr><td>Fantasy</td><td>1998</td><td>2.8451443569553807</td></tr><tr><td>Musical</td><td>2000</td><td>3.8636363636363638</td></tr><tr><td>Documentary</td><td>1991</td><td>3.04040404040404</td></tr><tr><td>Horror</td><td>1999</td><td>3.0147791716789825</td></tr><tr><td>Musical</td><td>1991</td><td>3.715112540192926</td></tr><tr><td>War</td><td>1995</td><td>3.8971171647712244</td></tr><tr><td>War</td><td>1994</td><td>3.686868686868687</td></tr><tr><td>Crime</td><td>1993</td><td>3.454301075268817</td></tr><tr><td>Documentary</td><td>1999</td><td>3.878205128205128</td></tr><tr><td>Film-Noir</td><td>1990</td><td>3.7774762550881955</td></tr><tr><td>Western</td><td>1996</td><td>2.9237668161434978</td></tr><tr><td>Mystery</td><td>1996</td><td>3.5734643734643736</td></tr><tr><td>War</td><td>1993</td><td>4.045438022537259</td></tr><tr><td>Film-Noir</td><td>1993</td><td>3.3793103448275863</td></tr><tr><td>Children's</td><td>1997</td><td>2.8423289417764557</td></tr><tr><td>Action</td><td>1990</td><td>3.243904761904762</td></tr><tr><td>Crime</td><td>1990</td><td>3.5602955195424215</td></tr><tr><td>Drama</td><td>1990</td><td>3.727359732025362</td></tr><tr><td>Comedy</td><td>1992</td><td>3.347056672760512</td></tr><tr><td>Crime</td><td>1998</td><td>3.5675467828761858</td></tr><tr><td>Mystery</td><td>1999</td><td>3.4672578444747613</td></tr><tr><td>Comedy</td><td>1996</td><td>3.2040610275970383</td></tr><tr><td>Thriller</td><td>1999</td><td>3.4959053685168335</td></tr><tr><td>Western</td><td>1995</td><td>3.242884250474383</td></tr><tr><td>Fantasy</td><td>1991</td><td>2.6527777777777777</td></tr><tr><td>Western</td><td>1999</td><td>2.1203585147247117</td></tr><tr><td>Thriller</td><td>1997</td><td>3.3286314857838257</td></tr><tr><td>Romance</td><td>1999</td><td>3.256688741721854</td></tr><tr><td>Fantasy</td><td>1992</td><td>2.5531400966183573</td></tr><tr><td>Children's</td><td>1996</td><td>2.9253086419753087</td></tr><tr><td>Sci-Fi</td><td>1994</td><td>3.134749419183538</td></tr><tr><td>Documentary</td><td>1992</td><td>3.880952380952381</td></tr><tr><td>Drama</td><td>2000</td><td>3.607611211108254</td></tr><tr><td>Sci-Fi</td><td>1999</td><td>3.4102820341994224</td></tr><tr><td>Thriller</td><td>2000</td><td>3.208319049251514</td></tr><tr><td>Comedy</td><td>1995</td><td>3.442913069126401</td></tr><tr><td>Romance</td><td>1997</td><td>3.317055123936367</td></tr><tr><td>Drama</td><td>1992</td><td>3.6141922149500516</td></tr><tr><td>Horror</td><td>1997</td><td>2.9748811948404614</td></tr><tr><td>Western</td><td>1998</td><td>3.1</td></tr><tr><td>Musical</td><td>1998</td><td>3.232258064516129</td></tr><tr><td>Animation</td><td>2000</td><td>3.3786209710322317</td></tr><tr><td>Animation</td><td>1993</td><td>4.046956521739131</td></tr><tr><td>Comedy</td><td>1997</td><td>3.394016957286834</td></tr><tr><td>Sci-Fi</td><td>2000</td><td>3.138364779874214</td></tr><tr><td>Animation</td><td>1990</td><td>3.8086956521739133</td></tr><tr><td>Adventure</td><td>1990</td><td>3.5692182410423454</td></tr><tr><td>Animation</td><td>1999</td><td>3.9503403075371817</td></tr><tr><td>Drama</td><td>1997</td><td>3.627189781021898</td></tr><tr><td>Crime</td><td>2000</td><td>3.15521327014218</td></tr><tr><td>Animation</td><td>1994</td><td>3.6764953664700926</td></tr><tr><td>Thriller</td><td>1994</td><td>3.5147097800159024</td></tr><tr><td>Western</td><td>1994</td><td>3.222507708119219</td></tr><tr><td>War</td><td>1998</td><td>3.8964639321074963</td></tr><tr><td>Documentary</td><td>1995</td><td>3.751269035532995</td></tr><tr><td>Romance</td><td>2000</td><td>3.2027822364901017</td></tr><tr><td>Adventure</td><td>1998</td><td>3.0777167947310646</td></tr><tr><td>Mystery</td><td>2000</td><td>2.7005758157389637</td></tr></tbody></table></div>"
      ]
     },
     "metadata": {
      "application/vnd.databricks.v1+output": {
       "addedWidgets": {},
       "aggData": [],
       "aggError": "",
       "aggOverflow": false,
       "aggSchema": [],
       "aggSeriesLimitReached": false,
       "aggType": "",
       "arguments": {},
       "columnCustomDisplayInfos": {},
       "data": [
        [
         "Horror",
         1990,
         3.1979010494752624
        ],
        [
         "Documentary",
         1997,
         3.8688212927756656
        ],
        [
         "Romance",
         1998,
         3.562386511024643
        ],
        [
         "Children's",
         1992,
         3.259950248756219
        ],
        [
         "Children's",
         1998,
         3.383314020857474
        ],
        [
         "Mystery",
         1997,
         3.5251304586652017
        ],
        [
         "Animation",
         1995,
         3.993894993894994
        ],
        [
         "Adventure",
         1996,
         3.2408491947291362
        ],
        [
         "Documentary",
         1996,
         4.103015075376884
        ],
        [
         "Horror",
         1994,
         3.0639777468706537
        ],
        [
         "Animation",
         1991,
         3.765840220385675
        ],
        [
         "Horror",
         1995,
         2.737384140061792
        ],
        [
         "War",
         1997,
         3.0882244370616463
        ],
        [
         "Sci-Fi",
         1990,
         3.1954931804704487
        ],
        [
         "Thriller",
         1990,
         3.47193129451194
        ],
        [
         "Horror",
         1996,
         3.1403329935440025
        ],
        [
         "Film-Noir",
         1997,
         4.170829170829171
        ],
        [
         "Drama",
         1991,
         3.740649404027949
        ],
        [
         "Horror",
         1993,
         3.2888064316635743
        ],
        [
         "Crime",
         1999,
         3.406367041198502
        ],
        [
         "Mystery",
         1993,
         3.1558333333333333
        ],
        [
         "Action",
         1993,
         3.4471141728975887
        ],
        [
         "Animation",
         1996,
         3.2569856054191364
        ],
        [
         "Mystery",
         1998,
         3.4008429458740017
        ],
        [
         "Adventure",
         1991,
         3.144790257104195
        ],
        [
         "Crime",
         1997,
         3.5780659783429867
        ],
        [
         "Fantasy",
         1990,
         2.605873261205564
        ],
        [
         "Adventure",
         1995,
         2.914101216398859
        ],
        [
         "Comedy",
         1993,
         3.4480170796402922
        ],
        [
         "Musical",
         1996,
         3.225301204819277
        ],
        [
         "Film-Noir",
         1995,
         3.5068965517241377
        ],
        [
         "Action",
         1997,
         3.168424085278018
        ],
        [
         "Romance",
         1992,
         3.488678660049628
        ],
        [
         "Comedy",
         1999,
         3.5045447494958895
        ],
        [
         "Adventure",
         1993,
         3.408353995803929
        ],
        [
         "Western",
         1992,
         4.072916666666667
        ],
        [
         "Action",
         2000,
         3.4562582844158305
        ],
        [
         "Crime",
         1995,
         3.7177859778597786
        ],
        [
         "Sci-Fi",
         1993,
         3.300235017626322
        ],
        [
         "Romance",
         1994,
         3.662094455852156
        ],
        [
         "War",
         2000,
         3.720183486238532
        ],
        [
         "Adventure",
         1992,
         3.0301697045883094
        ],
        [
         "Horror",
         1992,
         2.955948795180723
        ],
        [
         "Fantasy",
         1995,
         3.0813492063492065
        ],
        [
         "Film-Noir",
         1996,
         3.0
        ],
        [
         "Drama",
         1998,
         3.5557867234371976
        ],
        [
         "Action",
         1992,
         3.1441974757064672
        ],
        [
         "Animation",
         1998,
         3.5537992235163616
        ],
        [
         "Documentary",
         1993,
         4.043771043771044
        ],
        [
         "Thriller",
         1996,
         3.407855855855856
        ],
        [
         "Sci-Fi",
         1991,
         3.7332272003638844
        ],
        [
         "Children's",
         1994,
         3.059606656580938
        ],
        [
         "Children's",
         1993,
         3.1029411764705883
        ],
        [
         "Romance",
         1991,
         3.534376918354819
        ],
        [
         "Documentary",
         1998,
         3.806
        ],
        [
         "Mystery",
         1992,
         3.4226044226044228
        ],
        [
         "Thriller",
         1995,
         3.6196288659793816
        ],
        [
         "Horror",
         1991,
         2.166153846153846
        ],
        [
         "Romance",
         1996,
         3.4102930664760542
        ],
        [
         "Romance",
         1990,
         3.413793103448276
        ],
        [
         "Mystery",
         1990,
         3.6012965964343597
        ],
        [
         "Sci-Fi",
         1998,
         3.1386151977324874
        ],
        [
         "Western",
         1993,
         3.7789661319073082
        ],
        [
         "Mystery",
         1991,
         3.7013838310269485
        ],
        [
         "Comedy",
         1998,
         3.4794514243637535
        ],
        [
         "Drama",
         1995,
         3.622660398711587
        ],
        [
         "Documentary",
         2000,
         3.56
        ],
        [
         "Crime",
         1992,
         3.5802569523499757
        ],
        [
         "Children's",
         1990,
         2.8906685236768803
        ],
        [
         "Sci-Fi",
         1996,
         3.1054135338345863
        ],
        [
         "Action",
         1994,
         3.263103415827609
        ],
        [
         "Crime",
         1996,
         3.6484699659992446
        ],
        [
         "Thriller",
         1991,
         4.073460508701473
        ],
        [
         "Mystery",
         1994,
         3.4003466204506068
        ],
        [
         "Action",
         1996,
         3.1910651920838182
        ],
        [
         "Action",
         1999,
         3.31703900317039
        ],
        [
         "Adventure",
         1997,
         3.1442724458204334
        ],
        [
         "Romance",
         1995,
         3.4063711125815295
        ],
        [
         "Fantasy",
         1997,
         2.6986301369863015
        ],
        [
         "Musical",
         1994,
         3.8358925143953937
        ],
        [
         "Adventure",
         1994,
         3.451586149699357
        ],
        [
         "Horror",
         1998,
         2.7901477832512316
        ],
        [
         "Mystery",
         1995,
         2.8014911463187326
        ],
        [
         "Fantasy",
         1996,
         2.8673316708229426
        ],
        [
         "Documentary",
         1990,
         3.9831932773109244
        ],
        [
         "Drama",
         1999,
         3.6150596225223093
        ],
        [
         "Action",
         1995,
         3.2528342245989306
        ],
        [
         "Fantasy",
         1999,
         3.3858742463393625
        ],
        [
         "Crime",
         1994,
         3.8935683222705424
        ],
        [
         "Thriller",
         1992,
         3.4038671448619993
        ],
        [
         "Drama",
         1993,
         3.7001449575481464
        ],
        [
         "Sci-Fi",
         1992,
         3.0055895661431995
        ],
        [
         "Romance",
         1993,
         3.7085308056872037
        ],
        [
         "Fantasy",
         1993,
         2.8973747016706444
        ],
        [
         "Fantasy",
         2000,
         2.4508196721311477
        ],
        [
         "War",
         1996,
         3.3637782982045277
        ],
        [
         "Comedy",
         1994,
         3.3206759345679617
        ],
        [
         "Fantasy",
         1994,
         3.271981776765376
        ],
        [
         "Comedy",
         2000,
         3.393928035982009
        ],
        [
         "Children's",
         1999,
         3.657915057915058
        ],
        [
         "Drama",
         1994,
         3.7470431354359928
        ],
        [
         "War",
         1992,
         3.610290371879776
        ],
        [
         "Action",
         1998,
         3.4094603748024386
        ],
        [
         "Thriller",
         1993,
         3.4964440321583177
        ],
        [
         "Crime",
         1991,
         3.414383561643836
        ],
        [
         "Children's",
         1991,
         3.4746019711902956
        ],
        [
         "Children's",
         1995,
         3.596620528491821
        ],
        [
         "Musical",
         1995,
         2.9763313609467454
        ],
        [
         "Animation",
         1992,
         3.948733786287832
        ],
        [
         "Horror",
         2000,
         2.8681214421252372
        ],
        [
         "Sci-Fi",
         1995,
         3.141554628341833
        ],
        [
         "Adventure",
         2000,
         3.02740408570005
        ],
        [
         "Musical",
         1999,
         3.828125
        ],
        [
         "Film-Noir",
         1998,
         3.62217659137577
        ],
        [
         "Drama",
         1996,
         3.6688338493292054
        ],
        [
         "Musical",
         1997,
         3.03248031496063
        ],
        [
         "Animation",
         1997,
         3.5817843866171004
        ],
        [
         "Action",
         1991,
         3.6248148757610665
        ],
        [
         "Comedy",
         1991,
         3.353307138179437
        ],
        [
         "Musical",
         1993,
         3.545774647887324
        ],
        [
         "Musical",
         1992,
         3.7510094212651413
        ],
        [
         "War",
         1991,
         3.7974683544303796
        ],
        [
         "Sci-Fi",
         1997,
         3.3829806232699347
        ],
        [
         "Comedy",
         1990,
         3.2236116713728653
        ],
        [
         "Thriller",
         1998,
         3.309744560075686
        ],
        [
         "Adventure",
         1999,
         3.3409865470852016
        ],
        [
         "Children's",
         2000,
         3.279113625648279
        ],
        [
         "Documentary",
         1994,
         4.1262458471760795
        ],
        [
         "War",
         1999,
         3.606060606060606
        ],
        [
         "Western",
         1990,
         3.4885646687697163
        ],
        [
         "Fantasy",
         1998,
         2.8451443569553807
        ],
        [
         "Musical",
         2000,
         3.8636363636363638
        ],
        [
         "Documentary",
         1991,
         3.04040404040404
        ],
        [
         "Horror",
         1999,
         3.0147791716789825
        ],
        [
         "Musical",
         1991,
         3.715112540192926
        ],
        [
         "War",
         1995,
         3.8971171647712244
        ],
        [
         "War",
         1994,
         3.686868686868687
        ],
        [
         "Crime",
         1993,
         3.454301075268817
        ],
        [
         "Documentary",
         1999,
         3.878205128205128
        ],
        [
         "Film-Noir",
         1990,
         3.7774762550881955
        ],
        [
         "Western",
         1996,
         2.9237668161434978
        ],
        [
         "Mystery",
         1996,
         3.5734643734643736
        ],
        [
         "War",
         1993,
         4.045438022537259
        ],
        [
         "Film-Noir",
         1993,
         3.3793103448275863
        ],
        [
         "Children's",
         1997,
         2.8423289417764557
        ],
        [
         "Action",
         1990,
         3.243904761904762
        ],
        [
         "Crime",
         1990,
         3.5602955195424215
        ],
        [
         "Drama",
         1990,
         3.727359732025362
        ],
        [
         "Comedy",
         1992,
         3.347056672760512
        ],
        [
         "Crime",
         1998,
         3.5675467828761858
        ],
        [
         "Mystery",
         1999,
         3.4672578444747613
        ],
        [
         "Comedy",
         1996,
         3.2040610275970383
        ],
        [
         "Thriller",
         1999,
         3.4959053685168335
        ],
        [
         "Western",
         1995,
         3.242884250474383
        ],
        [
         "Fantasy",
         1991,
         2.6527777777777777
        ],
        [
         "Western",
         1999,
         2.1203585147247117
        ],
        [
         "Thriller",
         1997,
         3.3286314857838257
        ],
        [
         "Romance",
         1999,
         3.256688741721854
        ],
        [
         "Fantasy",
         1992,
         2.5531400966183573
        ],
        [
         "Children's",
         1996,
         2.9253086419753087
        ],
        [
         "Sci-Fi",
         1994,
         3.134749419183538
        ],
        [
         "Documentary",
         1992,
         3.880952380952381
        ],
        [
         "Drama",
         2000,
         3.607611211108254
        ],
        [
         "Sci-Fi",
         1999,
         3.4102820341994224
        ],
        [
         "Thriller",
         2000,
         3.208319049251514
        ],
        [
         "Comedy",
         1995,
         3.442913069126401
        ],
        [
         "Romance",
         1997,
         3.317055123936367
        ],
        [
         "Drama",
         1992,
         3.6141922149500516
        ],
        [
         "Horror",
         1997,
         2.9748811948404614
        ],
        [
         "Western",
         1998,
         3.1
        ],
        [
         "Musical",
         1998,
         3.232258064516129
        ],
        [
         "Animation",
         2000,
         3.3786209710322317
        ],
        [
         "Animation",
         1993,
         4.046956521739131
        ],
        [
         "Comedy",
         1997,
         3.394016957286834
        ],
        [
         "Sci-Fi",
         2000,
         3.138364779874214
        ],
        [
         "Animation",
         1990,
         3.8086956521739133
        ],
        [
         "Adventure",
         1990,
         3.5692182410423454
        ],
        [
         "Animation",
         1999,
         3.9503403075371817
        ],
        [
         "Drama",
         1997,
         3.627189781021898
        ],
        [
         "Crime",
         2000,
         3.15521327014218
        ],
        [
         "Animation",
         1994,
         3.6764953664700926
        ],
        [
         "Thriller",
         1994,
         3.5147097800159024
        ],
        [
         "Western",
         1994,
         3.222507708119219
        ],
        [
         "War",
         1998,
         3.8964639321074963
        ],
        [
         "Documentary",
         1995,
         3.751269035532995
        ],
        [
         "Romance",
         2000,
         3.2027822364901017
        ],
        [
         "Adventure",
         1998,
         3.0777167947310646
        ],
        [
         "Mystery",
         2000,
         2.7005758157389637
        ]
       ],
       "datasetInfos": [],
       "dbfsResultPath": null,
       "isJsonSchema": true,
       "metadata": {},
       "overflow": false,
       "plotOptions": {
        "customPlotOptions": {},
        "displayType": "table",
        "pivotAggregation": null,
        "pivotColumns": null,
        "xColumns": null,
        "yColumns": null
       },
       "removedWidgets": [],
       "schema": [
        {
         "metadata": "{}",
         "name": "Genres",
         "type": "\"string\""
        },
        {
         "metadata": "{}",
         "name": "ReleaseYear",
         "type": "\"integer\""
        },
        {
         "metadata": "{}",
         "name": "avg(Rating)",
         "type": "\"double\""
        }
       ],
       "type": "table"
      }
     },
     "output_type": "display_data"
    }
   ],
   "source": [
    "#First filtering rows where the release year is greater than 1989 and age  is between 18-49\n",
    "#Then grouping the dataframe by \"Genres\", and \"ReleaseYear\" and calculating average rating\n",
    "\n",
    "\n",
    "avg_rating = (final_df.filter(\"ReleaseYear>1989 and Age between 18 and 49\").groupBy([\"Genres\",\"ReleaseYear\"]).agg({\"Rating\":\"avg\"}))\n",
    "display(avg_rating)"
   ]
  },
  {
   "cell_type": "code",
   "execution_count": 0,
   "metadata": {
    "application/vnd.databricks.v1+cell": {
     "cellMetadata": {
      "byteLimit": 2048000,
      "rowLimit": 10000
     },
     "inputWidgets": {},
     "nuid": "48ba17be-791c-4015-9e06-ef5af6ca6dd4",
     "showTitle": false,
     "title": ""
    }
   },
   "outputs": [
    {
     "output_type": "display_data",
     "data": {
      "text/html": [
       "<style scoped>\n",
       "  .table-result-container {\n",
       "    max-height: 300px;\n",
       "    overflow: auto;\n",
       "  }\n",
       "  table, th, td {\n",
       "    border: 1px solid black;\n",
       "    border-collapse: collapse;\n",
       "  }\n",
       "  th, td {\n",
       "    padding: 5px;\n",
       "  }\n",
       "  th {\n",
       "    text-align: left;\n",
       "  }\n",
       "</style><div class='table-result-container'><table class='table-result'><thead style='background-color: white'><tr><th>Genres</th><th>ReleaseYear</th><th>AvgRating</th></tr></thead><tbody><tr><td>Horror</td><td>1990</td><td>3.0</td></tr><tr><td>Documentary</td><td>1997</td><td>4.0</td></tr><tr><td>Romance</td><td>1998</td><td>4.0</td></tr><tr><td>Children's</td><td>1992</td><td>3.0</td></tr><tr><td>Children's</td><td>1998</td><td>3.0</td></tr><tr><td>Mystery</td><td>1997</td><td>4.0</td></tr><tr><td>Animation</td><td>1995</td><td>4.0</td></tr><tr><td>Adventure</td><td>1996</td><td>3.0</td></tr><tr><td>Documentary</td><td>1996</td><td>4.0</td></tr><tr><td>Horror</td><td>1994</td><td>3.0</td></tr><tr><td>Animation</td><td>1991</td><td>4.0</td></tr><tr><td>Horror</td><td>1995</td><td>3.0</td></tr><tr><td>War</td><td>1997</td><td>3.0</td></tr><tr><td>Sci-Fi</td><td>1990</td><td>3.0</td></tr><tr><td>Thriller</td><td>1990</td><td>3.0</td></tr><tr><td>Horror</td><td>1996</td><td>3.0</td></tr><tr><td>Film-Noir</td><td>1997</td><td>4.0</td></tr><tr><td>Drama</td><td>1991</td><td>4.0</td></tr><tr><td>Horror</td><td>1993</td><td>3.0</td></tr><tr><td>Crime</td><td>1999</td><td>3.0</td></tr><tr><td>Mystery</td><td>1993</td><td>3.0</td></tr><tr><td>Action</td><td>1993</td><td>3.0</td></tr><tr><td>Animation</td><td>1996</td><td>3.0</td></tr><tr><td>Mystery</td><td>1998</td><td>3.0</td></tr><tr><td>Adventure</td><td>1991</td><td>3.0</td></tr><tr><td>Crime</td><td>1997</td><td>4.0</td></tr><tr><td>Fantasy</td><td>1990</td><td>3.0</td></tr><tr><td>Adventure</td><td>1995</td><td>3.0</td></tr><tr><td>Comedy</td><td>1993</td><td>3.0</td></tr><tr><td>Musical</td><td>1996</td><td>3.0</td></tr><tr><td>Film-Noir</td><td>1995</td><td>4.0</td></tr><tr><td>Action</td><td>1997</td><td>3.0</td></tr><tr><td>Romance</td><td>1992</td><td>3.0</td></tr><tr><td>Comedy</td><td>1999</td><td>4.0</td></tr><tr><td>Adventure</td><td>1993</td><td>3.0</td></tr><tr><td>Western</td><td>1992</td><td>4.0</td></tr><tr><td>Action</td><td>2000</td><td>3.0</td></tr><tr><td>Crime</td><td>1995</td><td>4.0</td></tr><tr><td>Sci-Fi</td><td>1993</td><td>3.0</td></tr><tr><td>Romance</td><td>1994</td><td>4.0</td></tr><tr><td>War</td><td>2000</td><td>4.0</td></tr><tr><td>Adventure</td><td>1992</td><td>3.0</td></tr><tr><td>Horror</td><td>1992</td><td>3.0</td></tr><tr><td>Fantasy</td><td>1995</td><td>3.0</td></tr><tr><td>Film-Noir</td><td>1996</td><td>3.0</td></tr><tr><td>Drama</td><td>1998</td><td>4.0</td></tr><tr><td>Action</td><td>1992</td><td>3.0</td></tr><tr><td>Animation</td><td>1998</td><td>4.0</td></tr><tr><td>Documentary</td><td>1993</td><td>4.0</td></tr><tr><td>Thriller</td><td>1996</td><td>3.0</td></tr><tr><td>Sci-Fi</td><td>1991</td><td>4.0</td></tr><tr><td>Children's</td><td>1994</td><td>3.0</td></tr><tr><td>Children's</td><td>1993</td><td>3.0</td></tr><tr><td>Romance</td><td>1991</td><td>4.0</td></tr><tr><td>Documentary</td><td>1998</td><td>4.0</td></tr><tr><td>Mystery</td><td>1992</td><td>3.0</td></tr><tr><td>Thriller</td><td>1995</td><td>4.0</td></tr><tr><td>Horror</td><td>1991</td><td>2.0</td></tr><tr><td>Romance</td><td>1996</td><td>3.0</td></tr><tr><td>Romance</td><td>1990</td><td>3.0</td></tr><tr><td>Mystery</td><td>1990</td><td>4.0</td></tr><tr><td>Sci-Fi</td><td>1998</td><td>3.0</td></tr><tr><td>Western</td><td>1993</td><td>4.0</td></tr><tr><td>Mystery</td><td>1991</td><td>4.0</td></tr><tr><td>Comedy</td><td>1998</td><td>3.0</td></tr><tr><td>Drama</td><td>1995</td><td>4.0</td></tr><tr><td>Documentary</td><td>2000</td><td>4.0</td></tr><tr><td>Crime</td><td>1992</td><td>4.0</td></tr><tr><td>Children's</td><td>1990</td><td>3.0</td></tr><tr><td>Sci-Fi</td><td>1996</td><td>3.0</td></tr><tr><td>Action</td><td>1994</td><td>3.0</td></tr><tr><td>Crime</td><td>1996</td><td>4.0</td></tr><tr><td>Thriller</td><td>1991</td><td>4.0</td></tr><tr><td>Mystery</td><td>1994</td><td>3.0</td></tr><tr><td>Action</td><td>1996</td><td>3.0</td></tr><tr><td>Action</td><td>1999</td><td>3.0</td></tr><tr><td>Adventure</td><td>1997</td><td>3.0</td></tr><tr><td>Romance</td><td>1995</td><td>3.0</td></tr><tr><td>Fantasy</td><td>1997</td><td>3.0</td></tr><tr><td>Musical</td><td>1994</td><td>4.0</td></tr><tr><td>Adventure</td><td>1994</td><td>3.0</td></tr><tr><td>Horror</td><td>1998</td><td>3.0</td></tr><tr><td>Mystery</td><td>1995</td><td>3.0</td></tr><tr><td>Fantasy</td><td>1996</td><td>3.0</td></tr><tr><td>Documentary</td><td>1990</td><td>4.0</td></tr><tr><td>Drama</td><td>1999</td><td>4.0</td></tr><tr><td>Action</td><td>1995</td><td>3.0</td></tr><tr><td>Fantasy</td><td>1999</td><td>3.0</td></tr><tr><td>Crime</td><td>1994</td><td>4.0</td></tr><tr><td>Thriller</td><td>1992</td><td>3.0</td></tr><tr><td>Drama</td><td>1993</td><td>4.0</td></tr><tr><td>Sci-Fi</td><td>1992</td><td>3.0</td></tr><tr><td>Romance</td><td>1993</td><td>4.0</td></tr><tr><td>Fantasy</td><td>1993</td><td>3.0</td></tr><tr><td>Fantasy</td><td>2000</td><td>2.0</td></tr><tr><td>War</td><td>1996</td><td>3.0</td></tr><tr><td>Comedy</td><td>1994</td><td>3.0</td></tr><tr><td>Fantasy</td><td>1994</td><td>3.0</td></tr><tr><td>Comedy</td><td>2000</td><td>3.0</td></tr><tr><td>Children's</td><td>1999</td><td>4.0</td></tr><tr><td>Drama</td><td>1994</td><td>4.0</td></tr><tr><td>War</td><td>1992</td><td>4.0</td></tr><tr><td>Action</td><td>1998</td><td>3.0</td></tr><tr><td>Thriller</td><td>1993</td><td>3.0</td></tr><tr><td>Crime</td><td>1991</td><td>3.0</td></tr><tr><td>Children's</td><td>1991</td><td>3.0</td></tr><tr><td>Children's</td><td>1995</td><td>4.0</td></tr><tr><td>Musical</td><td>1995</td><td>3.0</td></tr><tr><td>Animation</td><td>1992</td><td>4.0</td></tr><tr><td>Horror</td><td>2000</td><td>3.0</td></tr><tr><td>Sci-Fi</td><td>1995</td><td>3.0</td></tr><tr><td>Adventure</td><td>2000</td><td>3.0</td></tr><tr><td>Musical</td><td>1999</td><td>4.0</td></tr><tr><td>Film-Noir</td><td>1998</td><td>4.0</td></tr><tr><td>Drama</td><td>1996</td><td>4.0</td></tr><tr><td>Musical</td><td>1997</td><td>3.0</td></tr><tr><td>Animation</td><td>1997</td><td>4.0</td></tr><tr><td>Action</td><td>1991</td><td>4.0</td></tr><tr><td>Comedy</td><td>1991</td><td>3.0</td></tr><tr><td>Musical</td><td>1993</td><td>4.0</td></tr><tr><td>Musical</td><td>1992</td><td>4.0</td></tr><tr><td>War</td><td>1991</td><td>4.0</td></tr><tr><td>Sci-Fi</td><td>1997</td><td>3.0</td></tr><tr><td>Comedy</td><td>1990</td><td>3.0</td></tr><tr><td>Thriller</td><td>1998</td><td>3.0</td></tr><tr><td>Adventure</td><td>1999</td><td>3.0</td></tr><tr><td>Children's</td><td>2000</td><td>3.0</td></tr><tr><td>Documentary</td><td>1994</td><td>4.0</td></tr><tr><td>War</td><td>1999</td><td>4.0</td></tr><tr><td>Western</td><td>1990</td><td>3.0</td></tr><tr><td>Fantasy</td><td>1998</td><td>3.0</td></tr><tr><td>Musical</td><td>2000</td><td>4.0</td></tr><tr><td>Documentary</td><td>1991</td><td>3.0</td></tr><tr><td>Horror</td><td>1999</td><td>3.0</td></tr><tr><td>Musical</td><td>1991</td><td>4.0</td></tr><tr><td>War</td><td>1995</td><td>4.0</td></tr><tr><td>War</td><td>1994</td><td>4.0</td></tr><tr><td>Crime</td><td>1993</td><td>3.0</td></tr><tr><td>Documentary</td><td>1999</td><td>4.0</td></tr><tr><td>Film-Noir</td><td>1990</td><td>4.0</td></tr><tr><td>Western</td><td>1996</td><td>3.0</td></tr><tr><td>Mystery</td><td>1996</td><td>4.0</td></tr><tr><td>War</td><td>1993</td><td>4.0</td></tr><tr><td>Film-Noir</td><td>1993</td><td>3.0</td></tr><tr><td>Children's</td><td>1997</td><td>3.0</td></tr><tr><td>Action</td><td>1990</td><td>3.0</td></tr><tr><td>Crime</td><td>1990</td><td>4.0</td></tr><tr><td>Drama</td><td>1990</td><td>4.0</td></tr><tr><td>Comedy</td><td>1992</td><td>3.0</td></tr><tr><td>Crime</td><td>1998</td><td>4.0</td></tr><tr><td>Mystery</td><td>1999</td><td>3.0</td></tr><tr><td>Comedy</td><td>1996</td><td>3.0</td></tr><tr><td>Thriller</td><td>1999</td><td>3.0</td></tr><tr><td>Western</td><td>1995</td><td>3.0</td></tr><tr><td>Fantasy</td><td>1991</td><td>3.0</td></tr><tr><td>Western</td><td>1999</td><td>2.0</td></tr><tr><td>Thriller</td><td>1997</td><td>3.0</td></tr><tr><td>Romance</td><td>1999</td><td>3.0</td></tr><tr><td>Fantasy</td><td>1992</td><td>3.0</td></tr><tr><td>Children's</td><td>1996</td><td>3.0</td></tr><tr><td>Sci-Fi</td><td>1994</td><td>3.0</td></tr><tr><td>Documentary</td><td>1992</td><td>4.0</td></tr><tr><td>Drama</td><td>2000</td><td>4.0</td></tr><tr><td>Sci-Fi</td><td>1999</td><td>3.0</td></tr><tr><td>Thriller</td><td>2000</td><td>3.0</td></tr><tr><td>Comedy</td><td>1995</td><td>3.0</td></tr><tr><td>Romance</td><td>1997</td><td>3.0</td></tr><tr><td>Drama</td><td>1992</td><td>4.0</td></tr><tr><td>Horror</td><td>1997</td><td>3.0</td></tr><tr><td>Western</td><td>1998</td><td>3.0</td></tr><tr><td>Musical</td><td>1998</td><td>3.0</td></tr><tr><td>Animation</td><td>2000</td><td>3.0</td></tr><tr><td>Animation</td><td>1993</td><td>4.0</td></tr><tr><td>Comedy</td><td>1997</td><td>3.0</td></tr><tr><td>Sci-Fi</td><td>2000</td><td>3.0</td></tr><tr><td>Animation</td><td>1990</td><td>4.0</td></tr><tr><td>Adventure</td><td>1990</td><td>4.0</td></tr><tr><td>Animation</td><td>1999</td><td>4.0</td></tr><tr><td>Drama</td><td>1997</td><td>4.0</td></tr><tr><td>Crime</td><td>2000</td><td>3.0</td></tr><tr><td>Animation</td><td>1994</td><td>4.0</td></tr><tr><td>Thriller</td><td>1994</td><td>4.0</td></tr><tr><td>Western</td><td>1994</td><td>3.0</td></tr><tr><td>War</td><td>1998</td><td>4.0</td></tr><tr><td>Documentary</td><td>1995</td><td>4.0</td></tr><tr><td>Romance</td><td>2000</td><td>3.0</td></tr><tr><td>Adventure</td><td>1998</td><td>3.0</td></tr><tr><td>Mystery</td><td>2000</td><td>3.0</td></tr></tbody></table></div>"
      ]
     },
     "metadata": {
      "application/vnd.databricks.v1+output": {
       "addedWidgets": {},
       "aggData": [],
       "aggError": "",
       "aggOverflow": false,
       "aggSchema": [],
       "aggSeriesLimitReached": false,
       "aggType": "",
       "arguments": {},
       "columnCustomDisplayInfos": {},
       "data": [
        [
         "Horror",
         1990,
         3.0
        ],
        [
         "Documentary",
         1997,
         4.0
        ],
        [
         "Romance",
         1998,
         4.0
        ],
        [
         "Children's",
         1992,
         3.0
        ],
        [
         "Children's",
         1998,
         3.0
        ],
        [
         "Mystery",
         1997,
         4.0
        ],
        [
         "Animation",
         1995,
         4.0
        ],
        [
         "Adventure",
         1996,
         3.0
        ],
        [
         "Documentary",
         1996,
         4.0
        ],
        [
         "Horror",
         1994,
         3.0
        ],
        [
         "Animation",
         1991,
         4.0
        ],
        [
         "Horror",
         1995,
         3.0
        ],
        [
         "War",
         1997,
         3.0
        ],
        [
         "Sci-Fi",
         1990,
         3.0
        ],
        [
         "Thriller",
         1990,
         3.0
        ],
        [
         "Horror",
         1996,
         3.0
        ],
        [
         "Film-Noir",
         1997,
         4.0
        ],
        [
         "Drama",
         1991,
         4.0
        ],
        [
         "Horror",
         1993,
         3.0
        ],
        [
         "Crime",
         1999,
         3.0
        ],
        [
         "Mystery",
         1993,
         3.0
        ],
        [
         "Action",
         1993,
         3.0
        ],
        [
         "Animation",
         1996,
         3.0
        ],
        [
         "Mystery",
         1998,
         3.0
        ],
        [
         "Adventure",
         1991,
         3.0
        ],
        [
         "Crime",
         1997,
         4.0
        ],
        [
         "Fantasy",
         1990,
         3.0
        ],
        [
         "Adventure",
         1995,
         3.0
        ],
        [
         "Comedy",
         1993,
         3.0
        ],
        [
         "Musical",
         1996,
         3.0
        ],
        [
         "Film-Noir",
         1995,
         4.0
        ],
        [
         "Action",
         1997,
         3.0
        ],
        [
         "Romance",
         1992,
         3.0
        ],
        [
         "Comedy",
         1999,
         4.0
        ],
        [
         "Adventure",
         1993,
         3.0
        ],
        [
         "Western",
         1992,
         4.0
        ],
        [
         "Action",
         2000,
         3.0
        ],
        [
         "Crime",
         1995,
         4.0
        ],
        [
         "Sci-Fi",
         1993,
         3.0
        ],
        [
         "Romance",
         1994,
         4.0
        ],
        [
         "War",
         2000,
         4.0
        ],
        [
         "Adventure",
         1992,
         3.0
        ],
        [
         "Horror",
         1992,
         3.0
        ],
        [
         "Fantasy",
         1995,
         3.0
        ],
        [
         "Film-Noir",
         1996,
         3.0
        ],
        [
         "Drama",
         1998,
         4.0
        ],
        [
         "Action",
         1992,
         3.0
        ],
        [
         "Animation",
         1998,
         4.0
        ],
        [
         "Documentary",
         1993,
         4.0
        ],
        [
         "Thriller",
         1996,
         3.0
        ],
        [
         "Sci-Fi",
         1991,
         4.0
        ],
        [
         "Children's",
         1994,
         3.0
        ],
        [
         "Children's",
         1993,
         3.0
        ],
        [
         "Romance",
         1991,
         4.0
        ],
        [
         "Documentary",
         1998,
         4.0
        ],
        [
         "Mystery",
         1992,
         3.0
        ],
        [
         "Thriller",
         1995,
         4.0
        ],
        [
         "Horror",
         1991,
         2.0
        ],
        [
         "Romance",
         1996,
         3.0
        ],
        [
         "Romance",
         1990,
         3.0
        ],
        [
         "Mystery",
         1990,
         4.0
        ],
        [
         "Sci-Fi",
         1998,
         3.0
        ],
        [
         "Western",
         1993,
         4.0
        ],
        [
         "Mystery",
         1991,
         4.0
        ],
        [
         "Comedy",
         1998,
         3.0
        ],
        [
         "Drama",
         1995,
         4.0
        ],
        [
         "Documentary",
         2000,
         4.0
        ],
        [
         "Crime",
         1992,
         4.0
        ],
        [
         "Children's",
         1990,
         3.0
        ],
        [
         "Sci-Fi",
         1996,
         3.0
        ],
        [
         "Action",
         1994,
         3.0
        ],
        [
         "Crime",
         1996,
         4.0
        ],
        [
         "Thriller",
         1991,
         4.0
        ],
        [
         "Mystery",
         1994,
         3.0
        ],
        [
         "Action",
         1996,
         3.0
        ],
        [
         "Action",
         1999,
         3.0
        ],
        [
         "Adventure",
         1997,
         3.0
        ],
        [
         "Romance",
         1995,
         3.0
        ],
        [
         "Fantasy",
         1997,
         3.0
        ],
        [
         "Musical",
         1994,
         4.0
        ],
        [
         "Adventure",
         1994,
         3.0
        ],
        [
         "Horror",
         1998,
         3.0
        ],
        [
         "Mystery",
         1995,
         3.0
        ],
        [
         "Fantasy",
         1996,
         3.0
        ],
        [
         "Documentary",
         1990,
         4.0
        ],
        [
         "Drama",
         1999,
         4.0
        ],
        [
         "Action",
         1995,
         3.0
        ],
        [
         "Fantasy",
         1999,
         3.0
        ],
        [
         "Crime",
         1994,
         4.0
        ],
        [
         "Thriller",
         1992,
         3.0
        ],
        [
         "Drama",
         1993,
         4.0
        ],
        [
         "Sci-Fi",
         1992,
         3.0
        ],
        [
         "Romance",
         1993,
         4.0
        ],
        [
         "Fantasy",
         1993,
         3.0
        ],
        [
         "Fantasy",
         2000,
         2.0
        ],
        [
         "War",
         1996,
         3.0
        ],
        [
         "Comedy",
         1994,
         3.0
        ],
        [
         "Fantasy",
         1994,
         3.0
        ],
        [
         "Comedy",
         2000,
         3.0
        ],
        [
         "Children's",
         1999,
         4.0
        ],
        [
         "Drama",
         1994,
         4.0
        ],
        [
         "War",
         1992,
         4.0
        ],
        [
         "Action",
         1998,
         3.0
        ],
        [
         "Thriller",
         1993,
         3.0
        ],
        [
         "Crime",
         1991,
         3.0
        ],
        [
         "Children's",
         1991,
         3.0
        ],
        [
         "Children's",
         1995,
         4.0
        ],
        [
         "Musical",
         1995,
         3.0
        ],
        [
         "Animation",
         1992,
         4.0
        ],
        [
         "Horror",
         2000,
         3.0
        ],
        [
         "Sci-Fi",
         1995,
         3.0
        ],
        [
         "Adventure",
         2000,
         3.0
        ],
        [
         "Musical",
         1999,
         4.0
        ],
        [
         "Film-Noir",
         1998,
         4.0
        ],
        [
         "Drama",
         1996,
         4.0
        ],
        [
         "Musical",
         1997,
         3.0
        ],
        [
         "Animation",
         1997,
         4.0
        ],
        [
         "Action",
         1991,
         4.0
        ],
        [
         "Comedy",
         1991,
         3.0
        ],
        [
         "Musical",
         1993,
         4.0
        ],
        [
         "Musical",
         1992,
         4.0
        ],
        [
         "War",
         1991,
         4.0
        ],
        [
         "Sci-Fi",
         1997,
         3.0
        ],
        [
         "Comedy",
         1990,
         3.0
        ],
        [
         "Thriller",
         1998,
         3.0
        ],
        [
         "Adventure",
         1999,
         3.0
        ],
        [
         "Children's",
         2000,
         3.0
        ],
        [
         "Documentary",
         1994,
         4.0
        ],
        [
         "War",
         1999,
         4.0
        ],
        [
         "Western",
         1990,
         3.0
        ],
        [
         "Fantasy",
         1998,
         3.0
        ],
        [
         "Musical",
         2000,
         4.0
        ],
        [
         "Documentary",
         1991,
         3.0
        ],
        [
         "Horror",
         1999,
         3.0
        ],
        [
         "Musical",
         1991,
         4.0
        ],
        [
         "War",
         1995,
         4.0
        ],
        [
         "War",
         1994,
         4.0
        ],
        [
         "Crime",
         1993,
         3.0
        ],
        [
         "Documentary",
         1999,
         4.0
        ],
        [
         "Film-Noir",
         1990,
         4.0
        ],
        [
         "Western",
         1996,
         3.0
        ],
        [
         "Mystery",
         1996,
         4.0
        ],
        [
         "War",
         1993,
         4.0
        ],
        [
         "Film-Noir",
         1993,
         3.0
        ],
        [
         "Children's",
         1997,
         3.0
        ],
        [
         "Action",
         1990,
         3.0
        ],
        [
         "Crime",
         1990,
         4.0
        ],
        [
         "Drama",
         1990,
         4.0
        ],
        [
         "Comedy",
         1992,
         3.0
        ],
        [
         "Crime",
         1998,
         4.0
        ],
        [
         "Mystery",
         1999,
         3.0
        ],
        [
         "Comedy",
         1996,
         3.0
        ],
        [
         "Thriller",
         1999,
         3.0
        ],
        [
         "Western",
         1995,
         3.0
        ],
        [
         "Fantasy",
         1991,
         3.0
        ],
        [
         "Western",
         1999,
         2.0
        ],
        [
         "Thriller",
         1997,
         3.0
        ],
        [
         "Romance",
         1999,
         3.0
        ],
        [
         "Fantasy",
         1992,
         3.0
        ],
        [
         "Children's",
         1996,
         3.0
        ],
        [
         "Sci-Fi",
         1994,
         3.0
        ],
        [
         "Documentary",
         1992,
         4.0
        ],
        [
         "Drama",
         2000,
         4.0
        ],
        [
         "Sci-Fi",
         1999,
         3.0
        ],
        [
         "Thriller",
         2000,
         3.0
        ],
        [
         "Comedy",
         1995,
         3.0
        ],
        [
         "Romance",
         1997,
         3.0
        ],
        [
         "Drama",
         1992,
         4.0
        ],
        [
         "Horror",
         1997,
         3.0
        ],
        [
         "Western",
         1998,
         3.0
        ],
        [
         "Musical",
         1998,
         3.0
        ],
        [
         "Animation",
         2000,
         3.0
        ],
        [
         "Animation",
         1993,
         4.0
        ],
        [
         "Comedy",
         1997,
         3.0
        ],
        [
         "Sci-Fi",
         2000,
         3.0
        ],
        [
         "Animation",
         1990,
         4.0
        ],
        [
         "Adventure",
         1990,
         4.0
        ],
        [
         "Animation",
         1999,
         4.0
        ],
        [
         "Drama",
         1997,
         4.0
        ],
        [
         "Crime",
         2000,
         3.0
        ],
        [
         "Animation",
         1994,
         4.0
        ],
        [
         "Thriller",
         1994,
         4.0
        ],
        [
         "Western",
         1994,
         3.0
        ],
        [
         "War",
         1998,
         4.0
        ],
        [
         "Documentary",
         1995,
         4.0
        ],
        [
         "Romance",
         2000,
         3.0
        ],
        [
         "Adventure",
         1998,
         3.0
        ],
        [
         "Mystery",
         2000,
         3.0
        ]
       ],
       "datasetInfos": [],
       "dbfsResultPath": null,
       "isJsonSchema": true,
       "metadata": {},
       "overflow": false,
       "plotOptions": {
        "customPlotOptions": {},
        "displayType": "table",
        "pivotAggregation": null,
        "pivotColumns": null,
        "xColumns": null,
        "yColumns": null
       },
       "removedWidgets": [],
       "schema": [
        {
         "metadata": "{}",
         "name": "Genres",
         "type": "\"string\""
        },
        {
         "metadata": "{}",
         "name": "ReleaseYear",
         "type": "\"integer\""
        },
        {
         "metadata": "{}",
         "name": "AvgRating",
         "type": "\"double\""
        }
       ],
       "type": "table"
      }
     },
     "output_type": "display_data"
    },
    {
     "output_type": "display_data",
     "data": {
      "text/plain": [
       "Databricks visualization. Run in Databricks to view."
      ]
     },
     "metadata": {
      "application/vnd.databricks.v1.subcommand+json": {
       "baseErrorDetails": null,
       "bindings": {},
       "collapsed": false,
       "command": "%python\n__backend_agg_display_orig = display\n__backend_agg_dfs = []\ndef __backend_agg_display_new(df):\n    __backend_agg_df_modules = [\"pandas.core.frame\", \"databricks.koalas.frame\", \"pyspark.sql.dataframe\", \"pyspark.pandas.frame\", \"pyspark.sql.connect.dataframe\"]\n    if (type(df).__module__ in __backend_agg_df_modules and type(df).__name__ == 'DataFrame') or isinstance(df, list):\n        __backend_agg_dfs.append(df)\n\ndisplay = __backend_agg_display_new\n\ndef __backend_agg_user_code_fn():\n    import base64\n    exec(base64.standard_b64decode(\"I1JvdW5kaW5nIG9mZiB0aGUgYXZnKFJhdGluZykgY29sdW1uIHRvIG5lYXJlc3QgaW50ZWdlciBhbmQgdXNpbmcgZGlzcGxheSgpIHRvIGNyZWF0ZSBhIHZpc3VhbGl6YXRpb24gb3V0IG9mIHRoZSB0YWJsZQphdmdfcmF0aW5nID0gYXZnX3JhdGluZy5zZWxlY3QoIioiLHJvdW5kKCJhdmcoUmF0aW5nKSIsMCkuYWxpYXMoIkF2Z1JhdGluZyIpKS5kcm9wKCJhdmcoUmF0aW5nKSIpCmRpc3BsYXkoYXZnX3JhdGluZyk=\").decode())\n\ntry:\n    # run user code\n    __backend_agg_user_code_fn()\n\n    #reset display function\n    display = __backend_agg_display_orig\n\n    if len(__backend_agg_dfs) > 0:\n        # create a temp view\n        if type(__backend_agg_dfs[0]).__module__ == \"databricks.koalas.frame\":\n            # koalas dataframe\n            __backend_agg_dfs[0].to_spark().createOrReplaceTempView(\"DatabricksView1207c12\")\n        elif type(__backend_agg_dfs[0]).__module__ == \"pandas.core.frame\" or isinstance(__backend_agg_dfs[0], list):\n            # pandas dataframe\n            spark.createDataFrame(__backend_agg_dfs[0]).createOrReplaceTempView(\"DatabricksView1207c12\")\n        else:\n            __backend_agg_dfs[0].createOrReplaceTempView(\"DatabricksView1207c12\")\n        #run backend agg\n        display(spark.sql(\"\"\"WITH q AS (select * from DatabricksView1207c12) SELECT `Genres`,`ReleaseYear`,AVG(`AvgRating`) `AvgRating_alias` FROM q GROUP BY `Genres`,`ReleaseYear` ORDER BY `Genres` ASC,`ReleaseYear` ASC\"\"\"))\n    else:\n        displayHTML(\"dataframe no longer exists. If you're using dataframe.display(), use display(dataframe) instead.\")\n\n\nfinally:\n    spark.sql(\"drop view if exists DatabricksView1207c12\")\n    display = __backend_agg_display_orig\n    del __backend_agg_display_new\n    del __backend_agg_display_orig\n    del __backend_agg_dfs\n    del __backend_agg_user_code_fn\n\n",
       "commandTitle": "Visualization 1",
       "commandType": "auto",
       "commandVersion": 0,
       "commentThread": [],
       "commentsVisible": false,
       "contentSha256Hex": null,
       "customPlotOptions": {
        "redashChart": [
         {
          "key": "type",
          "value": "PIVOT_TABLE"
         },
         {
          "key": "options",
          "value": {
           "cell": {
            "field": "AvgRating",
            "transform": {
             "fn": "avg"
            }
           },
           "colorCellsByValue": true,
           "columns": [
            {
             "field": "ReleaseYear",
             "sort": "ascending"
            }
           ],
           "rows": [
            {
             "field": "Genres",
             "sort": "ascending"
            }
           ]
          }
         }
        ]
       },
       "datasetPreviewNameToCmdIdMap": {},
       "diffDeletes": [],
       "diffInserts": [],
       "displayType": "redashChart",
       "error": null,
       "errorDetails": null,
       "errorSummary": null,
       "errorTraceType": null,
       "finishTime": 0,
       "globalVars": {},
       "guid": "",
       "height": "auto",
       "hideCommandCode": false,
       "hideCommandResult": false,
       "iPythonMetadata": null,
       "inputWidgets": {},
       "isLockedInExamMode": false,
       "latestUser": "a user",
       "latestUserId": null,
       "listResultMetadata": null,
       "metadata": {
        "byteLimit": 2048000,
        "rowLimit": 10000
       },
       "nuid": "6f4c9531-0875-4252-b7a4-74f39abe8589",
       "origId": 0,
       "parentHierarchy": [],
       "pivotAggregation": null,
       "pivotColumns": null,
       "position": 17.0,
       "resultDbfsErrorMessage": null,
       "resultDbfsStatus": "INLINED_IN_TREE",
       "results": null,
       "showCommandTitle": false,
       "startTime": 0,
       "state": "finished",
       "streamStates": {},
       "subcommandOptions": {
        "queryPlan": {
         "groups": [
          {
           "column": "Genres",
           "type": "column"
          },
          {
           "column": "ReleaseYear",
           "type": "column"
          }
         ],
         "order_by": [
          {
           "direction": "asc",
           "expression": {
            "identifier": "Genres",
            "kind": "identifier"
           }
          },
          {
           "direction": "asc",
           "expression": {
            "identifier": "ReleaseYear",
            "kind": "identifier"
           }
          }
         ],
         "selects": [
          {
           "column": "Genres",
           "type": "column"
          },
          {
           "column": "ReleaseYear",
           "type": "column"
          },
          {
           "alias": "AvgRating_alias",
           "args": [
            {
             "column": "AvgRating",
             "type": "column"
            }
           ],
           "function": "AVG",
           "type": "function"
          }
         ]
        }
       },
       "submitTime": 0,
       "subtype": "tableResultSubCmd.visualization",
       "tableResultIndex": 0,
       "useConsistentColors": false,
       "version": "CommandV1",
       "width": "auto",
       "workflows": [],
       "xColumns": null,
       "yColumns": null
      }
     },
     "output_type": "display_data"
    }
   ],
   "source": [
    "#Rounding off the avg(Rating) column to nearest integer and using display() to create a visualization out of the table\n",
    "avg_rating = avg_rating.select(\"*\",round(\"avg(Rating)\",0).alias(\"AvgRating\")).drop(\"avg(Rating)\")\n",
    "display(avg_rating)"
   ]
  },
  {
   "cell_type": "code",
   "execution_count": 0,
   "metadata": {
    "application/vnd.databricks.v1+cell": {
     "cellMetadata": {
      "byteLimit": 2048000,
      "rowLimit": 10000
     },
     "inputWidgets": {},
     "nuid": "2c17cf37-3d5d-4e97-bdaa-ca29ab5b5f0a",
     "showTitle": false,
     "title": ""
    }
   },
   "outputs": [],
   "source": []
  },
  {
   "cell_type": "code",
   "execution_count": 0,
   "metadata": {
    "application/vnd.databricks.v1+cell": {
     "cellMetadata": {
      "byteLimit": 2048000,
      "rowLimit": 10000
     },
     "inputWidgets": {},
     "nuid": "931209f1-8bce-4e52-b789-6022e0f37edb",
     "showTitle": false,
     "title": ""
    }
   },
   "outputs": [],
   "source": []
  }
 ],
 "metadata": {
  "application/vnd.databricks.v1+notebook": {
   "dashboards": [],
   "environmentMetadata": null,
   "language": "python",
   "notebookMetadata": {
    "pythonIndentUnit": 4
   },
   "notebookName": "GFK Movielens 1M 2024-04-27 16:37:21",
   "widgets": {}
  }
 },
 "nbformat": 4,
 "nbformat_minor": 0
}
